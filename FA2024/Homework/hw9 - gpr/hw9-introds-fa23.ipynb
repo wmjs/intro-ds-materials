{
 "cells": [
  {
   "cell_type": "markdown",
   "metadata": {},
   "source": [
    "# Homework 8 - Gaussian Process Regression\n",
    "This homework will explore:\n",
    "- parameter values of covariance functions\n",
    "- new covariance functions (incl. products of covariance functions)\n",
    "\n",
    "You should have downloaded:\n",
    "- 'x_train.csv'\n",
    "- 'y_train.csv'\n",
    "- 'x_test.csv'\n",
    "\n",
    "The data is synthetically generated. But let's assume that it is capturing car price trends from 2016 to 2022:\n",
    "- x-axis: year, with decimal points denoting which corresponding part of the year the data was obtained\n",
    "- y-axis: car price, ten thousand \\$\n",
    "\n",
    "## 1 Training and Test Data\n",
    "### 1.1 Load and plot data\n",
    "1. [1 pt] Import `x_train`, `y_train`, `x_test`, and store them accordingly.\n",
    "2. [3 pt] Plot the training data as a scatter plot.\n",
    "    - Set xlim from the minimum in x_test to the maximum in x_test.\n",
    "    - Set ylim from 0 to 10.\n",
    "    - Label axes.\n",
    "    - Include a legend."
   ]
  },
  {
   "cell_type": "code",
   "execution_count": null,
   "metadata": {},
   "outputs": [],
   "source": [
    "import numpy as np\n",
    "import matplotlib.pyplot as plt\n",
    "\n",
    "x_train = None          # TODO\n",
    "y_train = None          # TODO\n",
    "x_test = None          # TODO\n",
    "\n",
    "# TODO plot"
   ]
  },
  {
   "cell_type": "markdown",
   "metadata": {},
   "source": [
    "### 1.2 Describe training and test data\n",
    "1. [1 pt] Describe the training data. Based on the scatter plot, what is your guess for the short term pattern and long term trajectory of the unknown function that the data points are sampled from?\n",
    "\n",
    "    **Ans:** (type response here)\n",
    "\n",
    "2. [1 pt] Describe the test points. At which x-values are we testing at?\n",
    "\n",
    "    **Ans:** (type response here)\n"
   ]
  },
  {
   "cell_type": "markdown",
   "metadata": {},
   "source": [
    "## 2 Plotting functions\n",
    "### 2.1 [5 pt] Complete the function `plot_pred` below.\n",
    "- There should be 3 plots in the same figure:\n",
    "    1. Scatter plot of training data\n",
    "    2. Curve of prediction\n",
    "    3. 95% confidence region\n",
    "- Set xlim from the minimum in x_test to the maximum in x_test.\n",
    "- Set ylim from 0 to 10.\n",
    "- Include a legend.\n",
    "- Include a title, using the argument `plottitle`, which is a string."
   ]
  },
  {
   "cell_type": "code",
   "execution_count": 12,
   "metadata": {},
   "outputs": [],
   "source": [
    "def plot_pred(x_train, y_train, x_test, pred, std, plottitle):\n",
    "    # TODO plot 3 things\n",
    "\n",
    "    # TODO all other features of plot\n",
    "\n",
    "    pass"
   ]
  },
  {
   "cell_type": "markdown",
   "metadata": {},
   "source": [
    "### 2.2. [3 pt] Complete the function `plot_cov_fn` below.\n",
    "- This function should plot the covariance function $k(x,x')$ against the distance between points $x-x'$, similar to those you see in lecture and section.\n",
    "- Read the sklearn documentation for RBF kernel, paying attention to how the \\_\\_call\\_\\_ method works.\n",
    "    - You may need to reshape arrays by .reshape(-1,1) for compatibility with sklearn GPR package.\n",
    "- Set xlim for horizontal axis $-5 \\leq x-x^\\prime \\leq 5$\n",
    "- Set ylim from 0 to 1.1.\n",
    "- Include approapriate x and y labels."
   ]
  },
  {
   "cell_type": "code",
   "execution_count": null,
   "metadata": {},
   "outputs": [],
   "source": [
    "def plot_cov_fn(kernel):\n",
    "    x_minus_xprime = None           # TODO\n",
    "    cov_values = None           # TODO, you may need to use np.squeeze() on the array returned by sklearn\n",
    "\n",
    "    # TODO plot\n",
    "    plt.plot(x_minus_xprime, cov_values)\n",
    "    plt.xlabel(r'$x-x^\\prime$'); plt.ylabel(r'$k(x,x^\\prime)$'); plt.title('covariance function')\n",
    "    plt.ylim([0,1.1])\n",
    "    plt.show()"
   ]
  },
  {
   "cell_type": "markdown",
   "metadata": {},
   "source": [
    "## 3 Radial Basis Function (RBF) Covariance Function\n",
    "The Squared Exponential (SE) covariance function is also known as the Radial Basis Function (RBF) Covariance Function. RBF is the name used in sklearn. The formula is\n",
    "$$\n",
    "k(x,x') = \\exp\\left(-\\frac{(x-x')^2}{2\\ell^2}\\right).\n",
    "$$\n",
    "\n",
    "### 3.1 Define GPR model with RBF and Predict\n",
    "Import relevant sklearn packages for GPR and RBF.\n",
    "1. [2 pt] Define `kernel_rbf`, RBF kernel\n",
    "    - Length scale parameter is some value that you will have to experiment around with.\n",
    "    - Find the parameter that gives the best possible fit. You can check this by completing the next few cells and plotting the prediction. \n",
    "    \n",
    "    (The best parameters should at least fit the training data pretty well, but not necessarily on the test points.)\n",
    "2. [1 pt] Define `gp_rbf`, GPR object with RBF kernel. \n",
    "    - Set noise parameter alpha to 0.01.\n",
    "    - Set optimizer to None. (Of course, you can try using the optimizer but it may/may not work.)\n",
    "3. [1 pt] Fit gp_rbf to the training data\n",
    "    - You may need to reshape your training data with .reshape(-1, 1) to make it compatible with sklearn.\n",
    "4. [1 pt] Predict the values at test points, obtain the mean and standard deviation of your predictions, storing them as `mean_pred_rbf`, `std_pred_rbf`.\n",
    "    - Again, you may need to reshape your test data."
   ]
  },
  {
   "cell_type": "code",
   "execution_count": 23,
   "metadata": {},
   "outputs": [],
   "source": [
    "# TODO import packages\n",
    "\n",
    "kernel_rbf = None       # TODO\n",
    "gp_rbf = None       # TODO\n",
    "mean_pred_rbf, std_pred_rbf = None       # TODO"
   ]
  },
  {
   "cell_type": "markdown",
   "metadata": {},
   "source": [
    "### 3.2 Plot Prediction and Confidence Interval for GPR with RBF\n",
    "1. [2 pt] Using the function plot_pred(), plot your predictions. \n",
    "    - Make sure you have a meaningful title.\n",
    "\n",
    "2. [1 pt] Plot the covariance function  used in your GPR model, using plot_cov_fn that you wrote earlier."
   ]
  },
  {
   "cell_type": "code",
   "execution_count": null,
   "metadata": {},
   "outputs": [],
   "source": [
    "# TODO plot prediction and covariance function"
   ]
  },
  {
   "cell_type": "markdown",
   "metadata": {},
   "source": [
    "## 4 Exponential Sine Squared (ESS) Covariance Function\n",
    "This is another possible covariance function we could use. Let's see at how this covariance function looks like and how it performs.The formula is\n",
    "$$\n",
    "k(x,x') = \\exp\\left(-\\frac{2 \\left[\\sin(\\pi|x-x'|/p) \\right]^2}{\\ell^2}\\right).\n",
    "$$\n",
    "\n",
    "### 4.1 Define GPR model with ESS and Predict\n",
    "Import relevant sklearn packages for ESS kernel, ExpSineSquared.\n",
    "1. [2 pt] Define `kernel_ess`, ESS kernel.\n",
    "    - Length scale parameter is some value that you will have to experiment around with.\n",
    "    - Periodicity parameter should be some value that is clear from what you observed in the training data. (What does the period look like, just using your eyeballs?)\n",
    "    - Find the parameters that give the best possible fit. You can check this by completing the next few cells and plotting the prediction.\n",
    "    \n",
    "    (The best parameters should only be able to fit the periodicity of training data, but otherwise not good.)\n",
    "2. [1 pt] Define `gp_ess`, GPR object with ESS kernel. \n",
    "    - Set noise parameter alpha to 0.01.\n",
    "    - Set optimizer to None.\n",
    "3. [1 pt] Fit gp_ess to the training data\n",
    "4. [1 pt] Predict the values at test points, storing them as `mean_pred_ess`, `std_pred_ess`."
   ]
  },
  {
   "cell_type": "code",
   "execution_count": 29,
   "metadata": {},
   "outputs": [],
   "source": [
    "# TODO import packages\n",
    "kernel_ess = None       # TODO\n",
    "gp_ess = None       # TODO\n",
    "mean_pred_ess, std_pred_ess = None       # TODO"
   ]
  },
  {
   "cell_type": "markdown",
   "metadata": {},
   "source": [
    "### 4.2 Plot GPR with ESS kernel\n",
    "1. [2 pt] Using the function plot_pred(), plot your predictions. \n",
    "    - Make sure you have a meaningful title.\n",
    "\n",
    "2. [1 pt] Plot the ESS covariance function used in your GPR model."
   ]
  },
  {
   "cell_type": "code",
   "execution_count": null,
   "metadata": {},
   "outputs": [],
   "source": [
    "# TODO plot prediction and covariance function"
   ]
  },
  {
   "cell_type": "markdown",
   "metadata": {},
   "source": [
    "## 5 Product of SE and ESS Covariance Function\n",
    "We can in fact build covariance functions from existing ones by taking their product, best of both worlds! The formula should be \n",
    "$$\n",
    "k(x,x') = \\exp\\left(-\\frac{(x-x')^2}{2\\ell_1^2}\\right) \\cdot  \\exp\\left(-\\frac{2 \\left[\\sin(\\pi|x-x'|/p) \\right]^2}{\\ell_2^2}\\right).\n",
    "$$\n",
    "Note: There are 3 parameters, $\\ell_1, \\ell_2, p$.\n",
    "### 5.1 Define GPR model with SE x ESS covariance function\n",
    "1. [2 pt] Define `kernel_pdt`, which is the SE kernel multiplied by ESS kernel.\n",
    "    - Length scales and periodicity parameter is some value that you will have to experiment around with. _It may not be the same as the optimal parameters you found in previous parts._\n",
    "    \n",
    "    (The best parameters should be able to both interpolate and extrapolate the training data well.)\n",
    "\n",
    "2. [1 pt] Define `gp_pdt`, GPR object with SExESS kernel. \n",
    "    - Set noise parameter alpha to 0.01.\n",
    "    - Set optimizer to None.\n",
    "3. [1 pt] Fit gp_pdt to the training data\n",
    "4. [1 pt] Predict the values at test points, obtain the mean and standard deviation of your predictions, storing them as `mean_pred_pdt`, `std_pred_pdt`."
   ]
  },
  {
   "cell_type": "code",
   "execution_count": 31,
   "metadata": {},
   "outputs": [],
   "source": [
    "# TODO import packages\n",
    "kernel_pdt = None       # TODO\n",
    "gp_pdt = None       # TODO\n",
    "mean_pred_pdt, std_pred_pdt = None       # TODO"
   ]
  },
  {
   "cell_type": "markdown",
   "metadata": {},
   "source": [
    "### 5.2 Plot GPR with SE x ESS\n",
    "1. [2 pt] Using the function plot_pred(), plot your predictions. \n",
    "    - Make sure you have a meaningful title.\n",
    "2. [1 pt] Plot the product covariance function used in your GPR model."
   ]
  },
  {
   "cell_type": "code",
   "execution_count": null,
   "metadata": {},
   "outputs": [],
   "source": [
    "# TODO plot prediction and covariance function"
   ]
  },
  {
   "cell_type": "markdown",
   "metadata": {},
   "source": [
    "## 6 Prediction of Car Prices\n",
    "1. [2 pt] Based on your prediction of car prices using GPR with product covariance function (SE x ESS), what is the first year that car prices are always above $45,000? \n",
    "    - The year you answer with should be within the test range.\n",
    "    - Your answer should include any relevant plots or code that verifies your answer.\n",
    "\n",
    "    **Ans:** (type response here)"
   ]
  },
  {
   "cell_type": "code",
   "execution_count": null,
   "metadata": {},
   "outputs": [],
   "source": [
    "# TODO code for how you verified your answer"
   ]
  },
  {
   "cell_type": "code",
   "execution_count": null,
   "metadata": {},
   "outputs": [],
   "source": []
  }
 ],
 "metadata": {
  "kernelspec": {
   "display_name": "base",
   "language": "python",
   "name": "python3"
  },
  "language_info": {
   "codemirror_mode": {
    "name": "ipython",
    "version": 3
   },
   "file_extension": ".py",
   "mimetype": "text/x-python",
   "name": "python",
   "nbconvert_exporter": "python",
   "pygments_lexer": "ipython3",
   "version": "3.9.1"
  }
 },
 "nbformat": 4,
 "nbformat_minor": 2
}
