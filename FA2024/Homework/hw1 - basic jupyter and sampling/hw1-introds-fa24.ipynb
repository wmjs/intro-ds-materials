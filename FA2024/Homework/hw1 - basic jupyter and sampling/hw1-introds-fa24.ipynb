{
 "cells": [
  {
   "cell_type": "markdown",
   "metadata": {},
   "source": [
    "# Homework 1\n",
    "You should have downloaded the following files as well:\n",
    "1. matrix.csv\n",
    "2. stocks.csv\n",
    "\n",
    "Goal: Practice basic usage of jupyter notebook, numpy, scipy, pandas, and matplotlib. \n",
    "\n",
    "If you are unfamiliar with how to use certain functions, look up the documentation online. This skill will be very useful, in general. Alternatively, seek help from your TAs."
   ]
  },
  {
   "cell_type": "markdown",
   "metadata": {},
   "source": [
    "## 1 Basic numpy\n",
    "### 1.1 Load data with numpy\n",
    "[1 pt] load \"matrix.csv\" as a numpy array named $\\texttt{data}$. The imported array should be 20 rows by 3 columns. (Hint: You can use np.loadtxt(), make sure to specify correct delimiter argument.)"
   ]
  },
  {
   "cell_type": "code",
   "execution_count": 1,
   "metadata": {},
   "outputs": [],
   "source": [
    "import numpy as np\n"
   ]
  },
  {
   "cell_type": "markdown",
   "metadata": {},
   "source": [
    "### 1.2 Row sum\n",
    "1. [1 pt] Define array $\\texttt{rowsum}$ where each entry represents the row sum of matrix. Print $\\texttt{rowsum}$. (hint: use np.sum() function, make sure to use the correct axis)"
   ]
  },
  {
   "cell_type": "code",
   "execution_count": null,
   "metadata": {},
   "outputs": [],
   "source": []
  },
  {
   "cell_type": "markdown",
   "metadata": {},
   "source": [
    "2. [1 pt] Define array, $\\texttt{idx}$, containing indices of rowsum that have values greater than 1. Print $\\texttt{idx}$. (hint: use np.where() function)"
   ]
  },
  {
   "cell_type": "code",
   "execution_count": null,
   "metadata": {},
   "outputs": [],
   "source": []
  },
  {
   "cell_type": "markdown",
   "metadata": {},
   "source": [
    "### 1.3 Compute length\n",
    "Now, view each row of the 20 by 3 array as a vector in $\\mathbb{R}^3$.\n",
    "\n",
    "[1 pt] Find the (Euclidean) length of vector (i.e., each row), store it as $\\texttt{distances}$. Print the $\\texttt{distances}$. (You may compute it via formula or use numpy functions, in which case be careful you use the right arguments). "
   ]
  },
  {
   "cell_type": "code",
   "execution_count": null,
   "metadata": {},
   "outputs": [],
   "source": []
  },
  {
   "cell_type": "markdown",
   "metadata": {},
   "source": [
    "### 1.4 Plot histogram\n",
    "Definition: A _density histogram_ is a histogram that is normalized so that the total area under the bars sums to unity. \n",
    "\n",
    "[2 pt] Using matplotlib, plot a density histogram of the length of vectors. Make your bins between 0.5 to 3.0, with increments of 0.5. (So, you should have 5 bins)"
   ]
  },
  {
   "cell_type": "code",
   "execution_count": 2,
   "metadata": {},
   "outputs": [],
   "source": [
    "import matplotlib.pyplot as plt\n"
   ]
  },
  {
   "cell_type": "markdown",
   "metadata": {},
   "source": [
    "## 2 Sampling and statistics: stock returns\n",
    "### 2.1 Load data with pandas\n",
    "1. [1 pt] **Using pandas**, load \"stocks.csv\" on monthly stock returns from 1926 to 2021 ([source](https://mba.tuck.dartmouth.edu/pages/faculty/ken.french/data_library.html)) as $\\texttt{stocks}$. (Hint: use the pandas read_csv() function)\n",
    "2. [1 pt] Define numpy array $\\texttt{ret}$ as the values of the \"Mkt-RF\" column in the dataset. (Hint: use the .values method.)"
   ]
  },
  {
   "cell_type": "code",
   "execution_count": 7,
   "metadata": {},
   "outputs": [],
   "source": [
    "import pandas as pd\n"
   ]
  },
  {
   "cell_type": "markdown",
   "metadata": {},
   "source": [
    "### 2.2 Compute mean and std\n",
    "1. [1 pt] Define $\\texttt{n}$ as the number of entries/length of $\\texttt{ret}$. You must use some function which extracts the length or shape of $\\texttt{ret}$, i.e., not manually counting it.\n",
    "2. [1 pt] Define $\\texttt{ret\\_mean}$ as the mean of $\\texttt{ret}$.\n",
    "3. [1 pt] Define $\\texttt{ret\\_std}$ as the unbiased estimate of standard deviation of $\\texttt{ret}$.\n",
    "\n",
    "(You can use numpy or scipy functions to compute them. Unbiased estimates of std will affect degree of freedom argument.)"
   ]
  },
  {
   "cell_type": "code",
   "execution_count": null,
   "metadata": {},
   "outputs": [],
   "source": []
  },
  {
   "cell_type": "markdown",
   "metadata": {},
   "source": [
    "### 2.3 Plot histogram\n",
    "1. [2 pts] Plot a density histogram of the returns $\\texttt{ret}$ with 100 equispaced bins from -30 to +40.\n",
    "\n",
    "2. [2 pts] On the same axes/figure, plot the PDF of a normal distribution over the histogram, with\n",
    "- mean equal to $\\texttt{ret\\_mean}$ and \n",
    "- standard deviation equal to $\\texttt{ret\\_std}$ \n",
    "\n",
    "(Hint: you can use scipy stats norm.pdf() function to help you)"
   ]
  },
  {
   "cell_type": "code",
   "execution_count": 4,
   "metadata": {},
   "outputs": [],
   "source": [
    "from scipy.stats import norm\n"
   ]
  },
  {
   "cell_type": "markdown",
   "metadata": {},
   "source": [
    "### 2.4 Skew and Kurtosis of ret\n",
    "[2 pt] What is the unbiased sample skew and (excess) kurtosis of $\\texttt{ret}$? Compute and print them to 5 decimal places. (You may use scipy.stats skew and kurtosis functions.)\n",
    "\n"
   ]
  },
  {
   "cell_type": "code",
   "execution_count": 5,
   "metadata": {},
   "outputs": [],
   "source": [
    "from scipy.stats import skew, kurtosis\n"
   ]
  },
  {
   "cell_type": "markdown",
   "metadata": {},
   "source": [
    "### 2.5 Generate data from normal distribution\n",
    "[1 pt] Repeat the following 10 times with a for-loop:\n",
    "\n",
    "1. [1 pt] Generate $n$ samples from the univariate normal distribution, storing it as $\\texttt{sim\\_data}$ with \n",
    "- mean equal $\\texttt{ret\\_mean}$ \n",
    "- standard deviation equal $\\texttt{ret\\_std}$\n",
    "- random_state equal to the index $\\texttt{i}$ of the for-loop\n",
    "\n",
    "(You can use norm.rvs() function.)\n",
    "\n",
    "2. [1 pt] What is the unbiased sample skew and (excess) kurtosis of these samples $\\texttt{sim\\_data}$? Print them to 5 decimal places, like in the previous part."
   ]
  },
  {
   "cell_type": "code",
   "execution_count": 6,
   "metadata": {},
   "outputs": [],
   "source": [
    "for i in range(10):\n",
    "    pass"
   ]
  },
  {
   "cell_type": "markdown",
   "metadata": {},
   "source": [
    "### 2.6 Discuss if ret data is normally distributed\n",
    "[2 pt] Explain in what ways the stock returns do not resemble a normal distribution. Your response should compare skew and kurtosis you computed and the plots you generated in the previous parts.\n",
    "\n",
    "**Ans:** (delete this and type your response here)"
   ]
  },
  {
   "cell_type": "markdown",
   "metadata": {},
   "source": []
  }
 ],
 "metadata": {
  "kernelspec": {
   "display_name": "base",
   "language": "python",
   "name": "python3"
  },
  "language_info": {
   "codemirror_mode": {
    "name": "ipython",
    "version": 3
   },
   "file_extension": ".py",
   "mimetype": "text/x-python",
   "name": "python",
   "nbconvert_exporter": "python",
   "pygments_lexer": "ipython3",
   "version": "3.11.5"
  },
  "orig_nbformat": 4
 },
 "nbformat": 4,
 "nbformat_minor": 2
}
