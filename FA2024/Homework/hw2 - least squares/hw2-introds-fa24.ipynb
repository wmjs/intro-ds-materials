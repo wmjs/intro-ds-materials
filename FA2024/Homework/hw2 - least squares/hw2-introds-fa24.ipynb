{
 "cells": [
  {
   "cell_type": "markdown",
   "id": "e32ab7cb",
   "metadata": {},
   "source": [
    "# Homework 2 - Least Sqaures\n",
    "Make sure you have downloaded:\n",
    "- HeightAndWeight500.csv"
   ]
  },
  {
   "attachments": {},
   "cell_type": "markdown",
   "id": "b3c0da92",
   "metadata": {},
   "source": [
    "In this assignment we will use data about the height and weight of 500 people"
   ]
  },
  {
   "cell_type": "code",
   "execution_count": null,
   "id": "f5a291e0",
   "metadata": {},
   "outputs": [],
   "source": [
    "######## DO NOT CHANGE THIS CODE ##########\n",
    "import matplotlib.pyplot as plt\n",
    "import numpy as np\n",
    "import pandas as pd\n",
    "\n",
    "# Load data\n",
    "df = pd.read_csv(\"HeightAndWeight500.csv\")\n",
    "display(df)\n",
    "###########################################"
   ]
  },
  {
   "cell_type": "markdown",
   "id": "12796b93",
   "metadata": {},
   "source": [
    "# 1 Create training and test data\n",
    "## 1.1 Get X and y\n",
    "1. [1 pt] Define the following numpy arrays by choosing the correct columns of the dataframe:\n",
    "    - `X`, which contains the 'Height' column\n",
    "    - `y`, which contains the 'Weight' column\n",
    "    - For your reference, the units of the 'Height' and 'Weight' columns are inches and pounds respectively\n",
    "2. [1 pt] Print the shapes of `X` and `y`."
   ]
  },
  {
   "cell_type": "code",
   "execution_count": null,
   "id": "79551215",
   "metadata": {},
   "outputs": [],
   "source": [
    "# TODO extract price and lotsize columns as np arrays\n",
    "X = None\n",
    "y = None\n",
    "\n",
    "# TODO print the shapes of X and Y"
   ]
  },
  {
   "attachments": {},
   "cell_type": "markdown",
   "id": "15ca4a40",
   "metadata": {},
   "source": [
    "## 1.2 Train-test split\n",
    "1. [1 pt] Create new numpy column arrays called `X_train`, `X_test`, `y_train`, and `y_test`, where:\n",
    "    - you use train_test_split() function from sklearn.model_selection\n",
    "    - the training dataset contains the 80% of samples\n",
    "    - the testing dataset contains the 20% of samples\n",
    "    - ***random state set to 45.***\n",
    "\n",
    "2. [2 pt] Print the shape of the training and testing datasets. Make sure the prints are informative."
   ]
  },
  {
   "cell_type": "code",
   "execution_count": null,
   "id": "4853cb7d",
   "metadata": {},
   "outputs": [],
   "source": [
    "# TODO split train and test data\n",
    "from sklearn.model_selection import train_test_split\n",
    "X_train, X_test, y_train, y_test = None\n",
    "\n",
    "# TODO print the shapes of X and y"
   ]
  },
  {
   "attachments": {},
   "cell_type": "markdown",
   "id": "72620f1d",
   "metadata": {},
   "source": [
    "## 1.3 Scatter plot\n",
    "1. [1 pt] On the same figure, make scatterplots of the training and testing data.\n",
    "    - x-coordinate should be height, X, and \n",
    "    - y-coordinate should be weight, Y.\n",
    "2. [1 pt] Use markers with different shapes and colors to show to training and testing datasets. \n",
    "3. [1 pt] Include \n",
    "    - x axis labels, \n",
    "    - y axis labels, \n",
    "    - grid lines,\n",
    "    - an approapriate title, and \n",
    "    - a legend."
   ]
  },
  {
   "cell_type": "code",
   "execution_count": null,
   "id": "56e2d6a0",
   "metadata": {},
   "outputs": [],
   "source": [
    "# TODO plot"
   ]
  },
  {
   "attachments": {},
   "cell_type": "markdown",
   "id": "cd255e8f",
   "metadata": {},
   "source": [
    "# 2 (Manual) Least Squares Linear Regression\n",
    "## 2.1 Obtain coefficients\n",
    "[2 pt] Without using sklearn or other packages, implement least squares linear regression to fit a line to the __training__ data using the linear model, \n",
    "    $$Y=a^T X + b,$$\n",
    "    where $a$ is a vector of weight coefficients for each feature and $b$ is a scalar offset. **(You should follow the implementation seen in lecture.)**\n",
    "\n",
    "Compute the fitted values for $a$ and $b$ and print them. \n",
    "- Make sure you specify in your prints, which is $a$ and which is $b$.\n",
    "\n",
    "### Note:\n",
    "This is different from the elementary implementation from section. **Your method should involve matrix multiplications**"
   ]
  },
  {
   "cell_type": "code",
   "execution_count": null,
   "id": "a343b88c",
   "metadata": {},
   "outputs": [],
   "source": [
    "# TODO code up manual linear regression\n",
    "\n",
    "# TODO compute a and b, and print"
   ]
  },
  {
   "cell_type": "markdown",
   "id": "d919a88c",
   "metadata": {},
   "source": [
    "## 2.2 Predict\n",
    "[1 pt] Use your custom fitted model to make a prediction about the `Y_test` values given `X_test` values. Name the predicted values of `Y_test_pred_linear`. **Your method should involve matrix multiplications.**"
   ]
  },
  {
   "cell_type": "code",
   "execution_count": null,
   "id": "bb0ab706",
   "metadata": {},
   "outputs": [],
   "source": [
    "# TODO predict"
   ]
  },
  {
   "attachments": {},
   "cell_type": "markdown",
   "id": "348fa095",
   "metadata": {},
   "source": [
    "# 3 (sklearn) Least Squares Linear Regression\n",
    "## 3.1 Obtain coefficients\n",
    "[2 pt] Use sklearn.linear_model.LinearRegression to fit a linear model to the training data. See their documentation for how to use the model.\n",
    "- You may need to reshape the data to column arrays by array.reshape(-1,1).\n",
    "\n",
    "Extract the fitted values for $a$ and $b$ and print them. Make sure you specify in your prints, which is $a$ and which is $b$.\n",
    "- At this point, you should verify that the $a$ and $b$ values you obtained manually and by sklearn are basically the same."
   ]
  },
  {
   "cell_type": "code",
   "execution_count": null,
   "id": "c370b75f",
   "metadata": {},
   "outputs": [],
   "source": [
    "from sklearn.linear_model import LinearRegression\n",
    "\n",
    "# TODO use sklearn\n",
    "\n",
    "# TODO extract a and b, and print"
   ]
  },
  {
   "cell_type": "markdown",
   "id": "f09a5109",
   "metadata": {},
   "source": [
    "## 3.2 Predict\n",
    "[1 pt] Use your sklearn fitted model to make a prediction about the `Y_test` values given `X_test` values. Name the predicted values of `Y_test_pred_sklearn`. **Your method should involve matrix multiplications.**"
   ]
  },
  {
   "cell_type": "code",
   "execution_count": null,
   "id": "32502864",
   "metadata": {},
   "outputs": [],
   "source": [
    "# TODO predict\n"
   ]
  },
  {
   "cell_type": "markdown",
   "id": "88d07fe1",
   "metadata": {},
   "source": [
    "## 3.3 Verify correctness\n",
    "[1 pt] Write code, with any relevant prints, to verify that `Y_test_pred_linear` and `Y_test_pred_sklearn` are the same.    \n",
    "- You can use the np.allclose() function. You may need to flatten the sklearn prediction array `Y_test_pred_sklearn`."
   ]
  },
  {
   "cell_type": "code",
   "execution_count": null,
   "id": "6e91b836",
   "metadata": {},
   "outputs": [],
   "source": [
    "# TODO verify\n"
   ]
  },
  {
   "attachments": {},
   "cell_type": "markdown",
   "id": "56ce5b97",
   "metadata": {},
   "source": [
    "## 3.4 Plot\n",
    "[3 pt] On the same figure (x-coordinate is height. y-coordinate is weight), make the following plots:\n",
    "1. Scatter plot of true test data.\n",
    "2. Scatter plot of prediction on test points, based on linear model.\n",
    "3. Straight line plot of linear model, which you should base of the fitted coefficients. \n",
    "\n",
    "[1 pt] Use point markers with different shapes and colors to show to testing data and prediction. Your figure must include \n",
    "- x axis labels, \n",
    "- y axis labels, \n",
    "- gridlines, \n",
    "- an approapriate title, and \n",
    "- a legend."
   ]
  },
  {
   "cell_type": "code",
   "execution_count": null,
   "id": "980eb1df",
   "metadata": {},
   "outputs": [],
   "source": [
    "# TODO plot\n"
   ]
  },
  {
   "cell_type": "markdown",
   "id": "291b9361",
   "metadata": {},
   "source": [
    "## 3.5 Discuss\n",
    "[1 pt] Is the method of least squares linear regression appropriate for the height and weight data? Why or why not? In particular, we seek your reflection on whether the data is suitable for linear modelling."
   ]
  },
  {
   "cell_type": "markdown",
   "id": "9104db3e",
   "metadata": {},
   "source": [
    "# 4 (Manual) Least Squares on 5th order polynomial\n",
    "## 4.1 Obtain Coefficients\n",
    "Now, suppose we instead used the 5th order polynomial model\n",
    "$$\n",
    "Y = a_5 x^5 + a_4x^4 + \\dots + a_1 x + a_0.\n",
    "$$\n",
    "[2 pt] Compute and print the fitted coefficients $a_0, \\dots, a_5$. You must do this using the custom/manual method, not via sklearn package. \n",
    "- Print them to 12 decimal places."
   ]
  },
  {
   "cell_type": "code",
   "execution_count": null,
   "id": "e1270a4d",
   "metadata": {},
   "outputs": [],
   "source": [
    "# TODO code up custom linear regression\n",
    "\n",
    "# TODO compute a and b, and print"
   ]
  },
  {
   "cell_type": "markdown",
   "id": "06d90550",
   "metadata": {},
   "source": [
    "## 4.2 Predict\n",
    "[1 pt] Use your fitted coeffcients to make a prediction about the `Y_test` values given `X_test` values. Name the predicted values of `Y_test_pred_poly`. **Your method should involve matrix multiplications.**"
   ]
  },
  {
   "cell_type": "code",
   "execution_count": null,
   "id": "48229daa",
   "metadata": {},
   "outputs": [],
   "source": [
    "# TODO predict"
   ]
  },
  {
   "cell_type": "markdown",
   "id": "4adf3d0d",
   "metadata": {},
   "source": [
    "## 4.3 Plot\n",
    "[3 pt] On the same figure (x-coordinate is height. y-coordinate is weight), make the following plots:\n",
    "1. Scatter plot of true test data.\n",
    "2. Scatter plot of prediction on test points, based on polynomial model.\n",
    "3. Curved line plot of polynomial model, which are based off the fitted coefficients. \n",
    "\n",
    "[1 pt] Use point markers with different shapes and colors to show to testing data and prediction. Your figure must include \n",
    "- x axis labels, \n",
    "- y axis labels, \n",
    "- gridlines, \n",
    "- an approapriate title, and \n",
    "- a legend."
   ]
  },
  {
   "cell_type": "code",
   "execution_count": null,
   "id": "bd16213e",
   "metadata": {},
   "outputs": [],
   "source": [
    "# TODO plot\n"
   ]
  },
  {
   "cell_type": "markdown",
   "id": "89a0bb02",
   "metadata": {},
   "source": [
    "## 4.4 Compare linear (1st order) and polynomial (5th order)\n",
    "\n",
    "1. [1 pt] Compute the mean squared error (MSE) on the test points of both:\n",
    "- 1st order model, `mse_linear`\n",
    "- 5th order model, `mse_poly`\n",
    "\n",
    "(The residual is \"the actual values of `Y`\" minus \"predicted values from the linear model.\" MSE is the average of (residual squared); this is just a (nonnegative) scalar value that gives one way to measure performance of the models.)\n",
    "\n",
    "2. [1 pt] Print `mse_linear` and `mse_poly`."
   ]
  },
  {
   "cell_type": "code",
   "execution_count": null,
   "id": "a9f16938",
   "metadata": {},
   "outputs": [],
   "source": [
    "# TODO compute mean RSS\n",
    "\n",
    "# TODO print mean RSS"
   ]
  },
  {
   "cell_type": "markdown",
   "id": "119fc496",
   "metadata": {},
   "source": [
    "3. [1 pt] Which MSE is smaller? Does it necessarily mean that the model with smaller RSS is always \"better\"? Why or why not?"
   ]
  }
 ],
 "metadata": {
  "kernelspec": {
   "display_name": "base",
   "language": "python",
   "name": "python3"
  },
  "language_info": {
   "codemirror_mode": {
    "name": "ipython",
    "version": 3
   },
   "file_extension": ".py",
   "mimetype": "text/x-python",
   "name": "python",
   "nbconvert_exporter": "python",
   "pygments_lexer": "ipython3",
   "version": "3.12.5"
  },
  "vscode": {
   "interpreter": {
    "hash": "43129c23d79667d987760d8fda822d6cf9b94e4f6ff31aa29025e95d3c53fe91"
   }
  }
 },
 "nbformat": 4,
 "nbformat_minor": 5
}
