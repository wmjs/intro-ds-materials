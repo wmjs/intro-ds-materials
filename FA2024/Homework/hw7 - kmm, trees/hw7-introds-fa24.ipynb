{
 "cells": [
  {
   "cell_type": "markdown",
   "metadata": {},
   "source": [
    "# Homework 7 - Decision Trees and K-Means Clustering\n",
    "\n",
    "## 0 Load Data\n",
    "\n",
    "Setting the scene: you recently picked up tennis and want to play more. The only problem is that you don't want to play if the weather is bad. And you're super indecisive. To get around these problems you decide to use a decision tree on some data that you collected from past tennis sessions. This tree will help you decide if you want to play tennis on any given day. \n",
    "\n",
    "Run the following code block to load in the data. Take note of the different features.\n"
   ]
  },
  {
   "cell_type": "code",
   "execution_count": null,
   "metadata": {},
   "outputs": [],
   "source": [
    "# ------------------ RUN THIS CODE BLOCK ---------------------\n",
    "import pandas as pd\n",
    "data = [['Sunny', 'Hot', 'High', 'Weak', 'No'],\n",
    "       ['Sunny', 'Hot', 'High', 'Strong', 'No'],\n",
    "       ['Overcast', 'Hot', 'High', 'Weak', 'Yes'],\n",
    "       ['Rain', 'Mild', 'High', 'Weak', 'Yes'],\n",
    "       ['Rain', 'Cool', 'Normal', 'Weak', 'Yes'],\n",
    "       ['Rain', 'Cool', 'Normal', 'Strong', 'No'],\n",
    "       ['Overcast', 'Cool', 'Normal', 'Strong', 'Yes'],\n",
    "       ['Sunny', 'Mild', 'High', 'Weak', 'No'],\n",
    "       ['Sunny', 'Cool', 'Normal', 'Weak', 'Yes'],\n",
    "       ['Rain', 'Mild', 'Normal', 'Weak', 'Yes'],\n",
    "       ['Sunny', 'Mild', 'Normal', 'Strong', 'Yes'],\n",
    "       ['Overcast', 'Mild', 'High', 'Strong', 'Yes'],\n",
    "       ['Overcast', 'Hot', 'Normal', 'Weak', 'Yes'],\n",
    "       ['Rain', 'Mild', 'High', 'Strong', 'No']]\n",
    "colums = ['Outlook', 'Temperature', 'Humidity', 'Wind', 'Play']\n",
    "dataset = pd.DataFrame(data, columns = colums)\n",
    "display(dataset)\n",
    "# -------------------------------------------------------------"
   ]
  },
  {
   "cell_type": "markdown",
   "metadata": {},
   "source": [
    "## 1 Decision Tree\n",
    "\n",
    "Unlike much of the data that we have worked with in this class so far this data is categorical. This is extremely common in real world data applications. Unfortunately, our favorite package's (sklearn) decision tree implementation does not support categorical data. \n",
    "\n",
    "There are many ways to get around this, such as 'encoding' the categorical as numerical values. This is beyond the scope of this homework but feel free to read about an example technique here: https://en.wikipedia.org/wiki/One-hot\n",
    "\n",
    "Regardless, we are nice so we've included a custom decision tree classifer that works with categorical. If you are interested you can take a look at the code within `hw7Treecode.py`. If not... that's fine the main points are below:\n",
    "\n",
    "### 1.1 Implementing the Tree with depth 5\n",
    "\n",
    "We have imported the classifier `DecisionTree` from `hw7TreeCode` for you. It works mostly the same as most of the classifiers you have seen. You need to create and instance of the class and pass along some initializing conditions. The class also has fit and predict functions.\n",
    "\n",
    "In this section you will fit the two trees with different depths and use them to determine whether or not you want to play tennis.\n",
    "\n",
    "**NOTE** For the printing of the tree, the first branch refers to the outcome for True and the second refers to the outcome for False.\n",
    "\n",
    "Example:\n",
    "\n",
    "0 - Goes to JHU = Yes\n",
    "\n",
    "$\\quad$ 1 - Is a Blue Jay\n",
    "\n",
    "$\\quad$ 1 - Is not a Blue Jay\n",
    "\n",
    "Here if the student goes to JHU they are a Blue Jay, otherwise they are not a Blue Jay.\n",
    "\n",
    "The number in front represents the depth of that branch. \n",
    "\n",
    "**Tasks**\n",
    "\n",
    "- [2 pt] Instantiate `dt5` as a `DecisionTree` object. Set `data = dataset`, `label = \"Play\"` and `max_depth = 5`\n",
    "- [1 pt] Call the `.fit()` method of the class. Note that because we set the data and label (X and y) in step 1 you don't need to pass anything to this function\n",
    "- [1 pt] Call the `.print_tree()` method of the class to print the decision tree"
   ]
  },
  {
   "cell_type": "code",
   "execution_count": null,
   "metadata": {},
   "outputs": [],
   "source": [
    "from hw7TreeCode import DecisionTree\n",
    "# TODO\n"
   ]
  },
  {
   "cell_type": "markdown",
   "metadata": {},
   "source": [
    "### 1.2 Discussion\n",
    "\n",
    "[2 pt] Based on the implementations of the decision tree, what feature and value provided the most information gain about whether or not you would play tennis on any given day. In other words, what was the biggest predictor of you playing tennis?\n",
    "\n",
    "**Ans** "
   ]
  },
  {
   "cell_type": "markdown",
   "metadata": {},
   "source": [
    "# 2 Random Forest (sklearn)\n",
    "\n",
    "In this section you will use a random forest classifier to determine the most important features in predicting breast cancer using Breast Cancer Wisconsin (https://archive.ics.uci.edu/dataset/17/breast+cancer+wisconsin+diagnostic).\n",
    "\n",
    "To do this you will need to split the data, fit a classifier, then determine the most important features. \n",
    "\n",
    "Run the following code to load in the data"
   ]
  },
  {
   "cell_type": "code",
   "execution_count": 43,
   "metadata": {},
   "outputs": [],
   "source": [
    "from sklearn.datasets import load_breast_cancer\n",
    "# Load dataset\n",
    "data = load_breast_cancer()\n",
    "X, y = data.data, data.target"
   ]
  },
  {
   "cell_type": "markdown",
   "metadata": {},
   "source": [
    "### 2.1 Splitting data\n",
    "\n",
    "**Tasks**\n",
    "\n",
    "- [2 pt] Using sklearns `train_test_split` split X and y into `X_train`, `X_test`, `y_train`, `y_test` with a `test_size` of 30% and a `random_state` of 42"
   ]
  },
  {
   "cell_type": "code",
   "execution_count": 44,
   "metadata": {},
   "outputs": [],
   "source": [
    "from sklearn.model_selection import train_test_split\n",
    "# TODO: Split the data"
   ]
  },
  {
   "cell_type": "markdown",
   "metadata": {},
   "source": [
    "### 2.2 Train and predict\n",
    "\n",
    "**Tasks**\n",
    "- [1 pt] Use `RandomForestClassifier` to create `rf_clf`. The forest should include 100 trees. Set random state to 42\n",
    "- [1 pt] Fit the `rf_clf` on the training data\n",
    "- [1 pt] Predict `X_test` and set it to `y_pred_rf`\n",
    "- [1 pt] Print the accuracy of the classifier"
   ]
  },
  {
   "cell_type": "code",
   "execution_count": null,
   "metadata": {},
   "outputs": [],
   "source": [
    "from sklearn.ensemble import RandomForestClassifier\n",
    "from sklearn.metrics import accuracy_score\n",
    "\n",
    "# TODO: Train Random Forest Classifier\n",
    "\n",
    "# TODO: Predict the test set results\n",
    "\n",
    "# TODO: Print"
   ]
  },
  {
   "cell_type": "markdown",
   "metadata": {},
   "source": [
    "### 2.3 Extract Feature importances \n",
    "\n",
    "You may need to read the sklearn documentation for this section. https://scikit-learn.org/dev/modules/generated/sklearn.ensemble.RandomForestClassifier.html\n",
    "\n",
    "**Tasks**\n",
    "\n",
    "- [1 pt] Extract the feature importances from `rf_clf`\n",
    "- [1 pt] Get the list of features from `data`\n",
    "- [2 pt] Print the top 5 most important feature names and their importances:\n",
    "    - ex: \"Feature 1: _______, Importance: _______\""
   ]
  },
  {
   "cell_type": "code",
   "execution_count": null,
   "metadata": {},
   "outputs": [],
   "source": [
    "# TODO: Extract feature Importance\n",
    "\n",
    "# TODO: Print 5 most important features\n"
   ]
  },
  {
   "cell_type": "markdown",
   "metadata": {},
   "source": [
    "# 3 K-Means Clustering\n",
    "\n",
    "In this section you are going to fill in some missing code for a manual K-Means implementation.\n",
    "\n",
    "First run the following code block to generate the clusters (no funny backstory for this data)"
   ]
  },
  {
   "cell_type": "code",
   "execution_count": null,
   "metadata": {},
   "outputs": [],
   "source": [
    "# --------------- RUN THIS CODE ------------------------------------\n",
    "from sklearn.datasets import make_blobs\n",
    "import matplotlib.pyplot as plt\n",
    "import numpy as np\n",
    "\n",
    "def plot_clusters(centroids, clusters):\n",
    "    colors = ['r', 'g', 'b', 'y', 'c', 'm']\n",
    "    for i, cluster in enumerate(clusters):\n",
    "        cluster = np.array(cluster)\n",
    "        plt.scatter(cluster[:, 0], cluster[:, 1], color=colors[i % len(colors)], label=f'Cluster {i+1}')\n",
    "    plt.scatter(centroids[:, 0], centroids[:, 1], s=100, c='black', marker='o', label='Centroids')\n",
    "    plt.legend()\n",
    "    plt.show()\n",
    "\n",
    "X, y = make_blobs(n_samples=1000, centers=5, n_features=2, random_state=1, cluster_std=.75)\n",
    "plt.scatter(X[:,0], X[:,1])\n",
    "plt.show()\n",
    "# ---------------------------------------------------------------------"
   ]
  },
  {
   "cell_type": "markdown",
   "metadata": {},
   "source": [
    "### 3.1 Euclidean Distance\n",
    "\n",
    "In your manual KMeans implementation you will measuring the distance between the centroids and the data points using the euclidean distance.\n",
    "\n",
    "**Tasks** \n",
    "\n",
    "- [3 pt] Given a point $a$ and a point $b$ the following function should return the distance between them in Euclidean space"
   ]
  },
  {
   "cell_type": "code",
   "execution_count": 48,
   "metadata": {},
   "outputs": [],
   "source": [
    "def euclidean_distance(a, b):\n",
    "    # TODO"
   ]
  },
  {
   "cell_type": "markdown",
   "metadata": {},
   "source": [
    "### 3.2 Manual KMeans \n",
    "\n",
    "Provide the missing code from the following manual KMeans implementation\n",
    "\n",
    "**Tasks** \n",
    "\n",
    "- [2 pt] Use the `euclidean_distance` function to calculate each points distance from the centroids. It should be an array of shape (k,) (or alternatively a list) where k is the number of centroids.\n",
    "- [2 pt] Assign each point to a cluster based on its distance from the centroid of that cluster\n",
    "- [2 pt] Update the centroids to the average of each cluster"
   ]
  },
  {
   "cell_type": "code",
   "execution_count": 49,
   "metadata": {},
   "outputs": [],
   "source": [
    "def kmeans(data, k, max_iters=100, random_state = 4):\n",
    "    # Randomly initialize the centroids\n",
    "    np.random.seed(random_state)\n",
    "    centroids = data[np.random.choice(data.shape[0], k, replace=False)] \n",
    "    \n",
    "    for _ in range(max_iters):\n",
    "        clusters = [[] for _ in range(k)]\n",
    "        for point in data:\n",
    "            distances =  # TODO: Calculate the distances from the centroid for each point\n",
    "            \n",
    "            # TODO: Assign each point to a cluster\n",
    "\n",
    "        new_centroids =  # TODO: Update the centroids to the average of each cluster\n",
    "        \n",
    "        centroids = new_centroids\n",
    "    \n",
    "    return centroids, clusters"
   ]
  },
  {
   "cell_type": "markdown",
   "metadata": {},
   "source": [
    "### 3.3 Plotting\n",
    "\n",
    "**Tasks**\n",
    "- [1 pt] Calculate the centroids and clusters using the kmeans function you just created. Choose an appropriate number of clusters\n",
    "- [2 pt] Use the `plot_clusters` to plot the clusters and centroids"
   ]
  },
  {
   "cell_type": "code",
   "execution_count": null,
   "metadata": {},
   "outputs": [],
   "source": [
    "# TODO"
   ]
  },
  {
   "cell_type": "markdown",
   "metadata": {},
   "source": [
    "### 3.4 Discussion\n",
    "\n",
    "[2 pt] Experiment with different random_state values. What do you notice? What impact does the random state have on the performance of the clustering?\n",
    "\n",
    "**Ans**\n",
    "\n",
    "[1 pt] Thought experiment time! Imagine we had categorical data like in the random forest problem. How could we alter the KMeans algorithm to classify categorical data?\n",
    "- There is no one correct answer\n",
    "\n",
    "**Ans** "
   ]
  },
  {
   "cell_type": "markdown",
   "metadata": {},
   "source": [
    "<font color = \"red\">\n",
    "\n",
    "# MAKE SURE TO SET random_state = 4 FOR 3.3 BEFORE SUBMITTING"
   ]
  }
 ],
 "metadata": {
  "kernelspec": {
   "display_name": "Python 3",
   "language": "python",
   "name": "python3"
  },
  "language_info": {
   "codemirror_mode": {
    "name": "ipython",
    "version": 3
   },
   "file_extension": ".py",
   "mimetype": "text/x-python",
   "name": "python",
   "nbconvert_exporter": "python",
   "pygments_lexer": "ipython3",
   "version": "3.12.5"
  }
 },
 "nbformat": 4,
 "nbformat_minor": 2
}
