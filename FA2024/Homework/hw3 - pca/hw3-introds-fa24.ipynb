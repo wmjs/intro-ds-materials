{
 "cells": [
  {
   "cell_type": "markdown",
   "metadata": {},
   "source": [
    "# Homework 3 - Principal Component Analysis on ECG Data\n",
    "You should have downloaded:\n",
    "- ECG5000.csv\n",
    "\n",
    "The homework performs PCA, but in a setting that will feel less familiar from simpler examples seen in lecture or section. But the underlying mathematics in identical and you will get a chance to see a more \"real-life\" application of PCA."
   ]
  },
  {
   "cell_type": "markdown",
   "metadata": {},
   "source": [
    "# 0 Introduction\n",
    "\n",
    "The original dataset for 'ECG5000' is a 20-hour long ECG downloaded from Physionet. The name is BIDMC Congestive Heart Failure Database(chfdb) and it is record 'chf07'. It was originally published in 'Goldberger AL, et al.: Components of a New Research Resource for Complex Physiologic Signals. Circulation 101(23)'. \n",
    "\n",
    "The data set is a 20-h long ECG recorded from a 48-year-old male with severe congestive heart failure. This record has 17,998,834 data points containing 92,584 heartbeats\n",
    "\n",
    "The data was pre-processed in two steps: (1) extract each heartbeat, (2) make each heartbeat equal length using interpolation. \n",
    "\n",
    "**After that, 5,000 heartbeats were randomly selected. The sampling was done at 200 Hz, the patients heart rate was on average 85 BPM.** \n",
    "- Note that there are actually 4998 samples in the .csv\n",
    "\n",
    "This means that there are:\n",
    "- 4998 heartbeats\n",
    "- Each heartbeat contains 140 recordings sampled at 200 $Hz$ (200 samples per second) so the total length of the beat is .7 seconds\n",
    "- There are **140 features per heartbeat**\n",
    "\n"
   ]
  },
  {
   "cell_type": "code",
   "execution_count": 1,
   "metadata": {},
   "outputs": [],
   "source": [
    "import pandas as pd\n",
    "import numpy as np\n",
    "import matplotlib.pyplot as plt\n"
   ]
  },
  {
   "cell_type": "markdown",
   "metadata": {},
   "source": [
    "# 1 Load and visualize data \n",
    "**Task**\n",
    "1. [1 pt] Load two dimensional array `X` in which: \n",
    "    - Rows are the 140 recordings \n",
    "    - Columns are the observed heartbeats \n",
    "    - Print the number of features and samples: \"Number of features ____, Number of samples ____\"\n",
    "\n",
    "2. [2 pt] Display all 4998 heartbeats in one figure.\n",
    "    - The horizontal axis would be the 140 samples (time), each taken every 5 $ms$\n",
    "    - The vertical axis would be the voltage, in $mV$\n",
    "    - Include axis labels and a title\n",
    "\n",
    "3. [1 pt] For your own visualization create another plot that includes only the first 3 heartbeats.\n",
    "    - Should use the same title and axis labels as (2)\n"
   ]
  },
  {
   "cell_type": "code",
   "execution_count": null,
   "metadata": {},
   "outputs": [],
   "source": [
    "# TODO Load\n",
    "\n",
    "# TODO Print\n",
    "\n",
    "# TODO Plot 1\n",
    "\n",
    "# TODO Plot 2\n"
   ]
  },
  {
   "cell_type": "markdown",
   "metadata": {},
   "source": [
    "# 2 PCA\n",
    "\n",
    "## 2.1 Eigendecomposition by sklearn\n",
    "**Task:** \n",
    "1. [1 pt] Center data by subtracting the mean, store it as ```X_ctd```. \n",
    "2. [4 pt] Use the sklearn PCA package to:\n",
    "    - fit data\n",
    "    - find covariance matrix, store it as ```cov_mat```\n",
    "    - find eigenvalues/singular values, store it as ```evals``` (Rmk: singular_values_ is not singular values, Go figure. -.-)\n",
    "    - find principal components, store it as ```evecs```. Your columns should be the eigenvectors. (Rmk: package gives tranposed version, i.e., rows are the principal components, not columns.)\n",
    "\n",
    "Through this exercise, we should gain familiarity with the package and understand that you MUST read documentation before using packages."
   ]
  },
  {
   "cell_type": "code",
   "execution_count": 3,
   "metadata": {},
   "outputs": [],
   "source": [
    "# TODO sklearn pca\n"
   ]
  },
  {
   "cell_type": "markdown",
   "metadata": {},
   "source": [
    "# 2.2 Scree plot\n",
    "1. [1 pt] What is a \"scree\"? What does it mean? This is not a math question. Google it and spend 10 minutes of fun on the web.\n",
    "    \n",
    "2. [2 pt] Make a scree plot of the eigenvalues of the covariance matrix.\n",
    "    - Include title and axis labels"
   ]
  },
  {
   "cell_type": "code",
   "execution_count": null,
   "metadata": {},
   "outputs": [],
   "source": [
    "# TODO plot\n"
   ]
  },
  {
   "cell_type": "markdown",
   "metadata": {},
   "source": [
    "# 3 Eigenbasis\n",
    "## 3.1 Visualization of principal components\n",
    "**Task:**\n",
    "1. [2 pt] Generate a 2D plot to display the first 5 principal components.\n",
    "- Each PC is basically a heartbeat signal, like those plotted earlier. This is how we will visualize a 140-dimensional vector in a two dimensional plot.\n",
    "- Include a title, legend, and axis labels."
   ]
  },
  {
   "cell_type": "code",
   "execution_count": null,
   "metadata": {},
   "outputs": [],
   "source": [
    "# TODO plot PCs\n"
   ]
  },
  {
   "cell_type": "markdown",
   "metadata": {},
   "source": [
    "2. [1 pt] Write code to verify that the first 4 principal components are indeed orthogonal."
   ]
  },
  {
   "cell_type": "code",
   "execution_count": null,
   "metadata": {},
   "outputs": [],
   "source": [
    "# TODO verify\n"
   ]
  },
  {
   "cell_type": "markdown",
   "metadata": {},
   "source": [
    "## 3.2 Signal reconstruction without sklearn\n",
    "Because the principal components form an basis, each heartbeat can be reconstructed using some weighted sum of the principal components. In this subsection, do not use sklearn package.\n",
    "\n",
    "**How to reconstruct?** For example, if we are reconstructing the heartbeat with the first $k$ PC, you will project the heartbeat to these principal components with \n",
    "$$U_{1:k} U_{1:k}^TX$$\n",
    "where $U_{1:k}$ is the matrix with first $k$ PCs on each column and $X$ is the heartbeat (column vector).\n",
    "\n",
    "**Task:**\n",
    "\n",
    "In the same figure,\n",
    "1. [1 pt] Plot the first heartbeat, ```heartbeat01```, by indexing the correct row/column of `X_ctd`. \n",
    "    - Use solid line to differentiate it more easily from the next plots below.\n",
    "2. [2 pt] Reconstruct an approximation to ```heartbeat01``` using the first prinicpal component only. \n",
    "    - Remember, we are using only one component, so the reconstruction will not be precise, it is only approximate. Use dashed lines to differentiate it from the true ```heartbeat01```.\n",
    "3. [1 pt] Then repeat the reconstruction of ```heartbeat01``` using the first two, first three, first four, first five, and finally all principal components. Might help to use a for-loop.\n",
    "\n",
    "4. [1 pt] Your plots should include title, legend, axis labels.\n",
    "\n",
    "At the end, you should have 6 plots in the same figure:\n",
    "1. original heartbeat\n",
    "2. Approximate reconstruction with 1 PC\n",
    "3. Approximate reconstruction with 2 PC\n",
    "4. Approximate reconstruction with 3 PC\n",
    "5. Approximate reconstruction with 4 PC\n",
    "6. Approximate reconstruction with 5 PC\n",
    "7. Approximate reconstruction with 140 PC"
   ]
  },
  {
   "cell_type": "code",
   "execution_count": null,
   "metadata": {},
   "outputs": [],
   "source": [
    "# TODO plot\n",
    "heartbeat01 = None"
   ]
  },
  {
   "cell_type": "markdown",
   "metadata": {},
   "source": [
    "## 3.3 Data projection with sklearn\n",
    "\n",
    "**Task:**\n",
    "1. [1 pt] Project the centered data ```X_ctd``` onto the principal components using an appropriate method in the sklearn PCA pacakage, store it is ```X_proj```.\n",
    "    - X_proj should have dimensions 140 by 4998. You may need to take transposes accordingly.\n",
    "2. [1 pt] What is the interpretation of `X_proj[0,:]`? What does each entry represent? Similarly, what is the interpretation of `X_proj[i,:]` for arbitrary row i?\n",
    "\n",
    "    **Ans:** `X_proj[:,j]` is the jth data/sample projected to the principal components, i.e., after a change of basis to the PCs. Thus, `X_proj[0,j]` is the first entry of that vector, which is the value of the first coordinate w.r.t the PC basis. So, `X_proj[0,:]` is the vector of \"value of the first coordinate of each data/sample\" w.r.t to the PC basis.\n",
    "\n",
    "    Similarly, `X_proj[i,:]` is the vector of \"value of the ith coordinate of each data/sample\" w.r.t to the PC basis."
   ]
  },
  {
   "cell_type": "code",
   "execution_count": null,
   "metadata": {},
   "outputs": [],
   "source": [
    "# TODO project\n",
    "X_proj = None"
   ]
  },
  {
   "cell_type": "markdown",
   "metadata": {},
   "source": [
    "# 4 Dimensionality reduction\n",
    "## 4.1 Histogram\n",
    "[2 pt] On separate figures:\n",
    "- plot a histogram of `X_proj[0,:]`\n",
    "- plot a histogram of `X_proj[1,:]`\n",
    "\n",
    "Set:\n",
    "- 50 bins equispaced between [-15,15]\n",
    "\n",
    "So, each histogram uses 4998 datapoints."
   ]
  },
  {
   "cell_type": "code",
   "execution_count": null,
   "metadata": {},
   "outputs": [],
   "source": [
    "# TODO show a histogram of the first principal component\n",
    "\n",
    "# TODO show a histogram of the second principal component "
   ]
  },
  {
   "cell_type": "markdown",
   "metadata": {},
   "source": [
    "## 4.2 Visualize data with PC1 and PC2\n",
    "**Task:**\n",
    "1. [2 pt] Create scatter plot of the data projected onto the first two principal components.\n",
    "    - y axis: PC2\n",
    "    - x axis: PC1\n",
    "    - Include title, axis labels"
   ]
  },
  {
   "cell_type": "code",
   "execution_count": null,
   "metadata": {},
   "outputs": [],
   "source": [
    "# TODO scatter"
   ]
  },
  {
   "cell_type": "markdown",
   "metadata": {},
   "source": [
    "2. [1 pt] What does the scatter plot suggest about the number of potential neuronal clusters?\n"
   ]
  }
 ],
 "metadata": {
  "kernelspec": {
   "display_name": "Python 3",
   "language": "python",
   "name": "python3"
  },
  "language_info": {
   "codemirror_mode": {
    "name": "ipython",
    "version": 3
   },
   "file_extension": ".py",
   "mimetype": "text/x-python",
   "name": "python",
   "nbconvert_exporter": "python",
   "pygments_lexer": "ipython3",
   "version": "3.12.5"
  }
 },
 "nbformat": 4,
 "nbformat_minor": 2
}
