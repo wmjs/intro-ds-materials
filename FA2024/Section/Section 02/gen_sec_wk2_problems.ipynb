{
 "cells": [
  {
   "cell_type": "markdown",
   "id": "6dbcb1a3",
   "metadata": {},
   "source": [
    "# Section 2 - Descriptive Statistics and Basic Jupyter\n",
    "You should also have downloaded:\n",
    "- stocks.csv\n",
    "- Mortality_Hypertension_America.csv"
   ]
  },
  {
   "cell_type": "code",
   "execution_count": null,
   "id": "ce5bb336",
   "metadata": {},
   "outputs": [],
   "source": [
    "# Module for arrays.\n",
    "import numpy as np\n",
    "# Module for data frames.\n",
    "import pandas as pd"
   ]
  },
  {
   "cell_type": "markdown",
   "id": "f9586d32",
   "metadata": {},
   "source": [
    "## 0 Load and display\n",
    "\n",
    "Load data on monthly stock returns from 1926 to 2021 ([source](https://mba.tuck.dartmouth.edu/pages/faculty/ken.french/data_library.html)) and store it as a pandas DataFrame."
   ]
  },
  {
   "cell_type": "code",
   "execution_count": null,
   "id": "116d7bfe",
   "metadata": {},
   "outputs": [],
   "source": [
    "# Load stock data as pandas DataFrame.\n",
    "df_stocks = None            # TODO\n",
    "# Display DataFrame.\n",
    "display(df_stocks)"
   ]
  },
  {
   "cell_type": "code",
   "execution_count": null,
   "id": "103bd7c7",
   "metadata": {},
   "outputs": [],
   "source": [
    "# Print the type of the \"df_stocks\" variable.\n",
    "type(df_stocks)"
   ]
  },
  {
   "cell_type": "markdown",
   "id": "37f9dbf8",
   "metadata": {},
   "source": [
    "Define `stocks_returns` as the column 'Mkt-RF'."
   ]
  },
  {
   "cell_type": "code",
   "execution_count": null,
   "id": "cf3fed3b",
   "metadata": {},
   "outputs": [],
   "source": [
    "# Choose the stock returns column\n",
    "stock_returns = None            # TODO\n",
    "stock_returns"
   ]
  },
  {
   "cell_type": "code",
   "execution_count": null,
   "id": "530b12ea",
   "metadata": {},
   "outputs": [],
   "source": [
    "# Print the type of the \"stock_returns\" variable.\n",
    "type(stock_returns)"
   ]
  },
  {
   "cell_type": "markdown",
   "id": "bec381bd",
   "metadata": {},
   "source": [
    "Define `ret` as the stock returns column, but in numpy array data type."
   ]
  },
  {
   "cell_type": "code",
   "execution_count": null,
   "id": "3e228744",
   "metadata": {},
   "outputs": [],
   "source": [
    "# convert pandas column/series into a numpy array\n",
    "ret = None            # TODO\n",
    "ret"
   ]
  },
  {
   "cell_type": "code",
   "execution_count": null,
   "id": "14336134",
   "metadata": {},
   "outputs": [],
   "source": [
    "# Print the type of the \"stock_returns_np\" variable.\n",
    "type(ret)"
   ]
  },
  {
   "cell_type": "markdown",
   "id": "8b0ee402",
   "metadata": {},
   "source": [
    "## 1 Compute Statistics (manual implementation)\n",
    "**Task:** implement your own functions for these descriptive statistics below. \n",
    "- mean\n",
    "- variance\n",
    "- standard deviation\n",
    "- skewness\n",
    "- kurtosis\n",
    "\n",
    "The functions should be designed to operate on a one-dimensional `ndarray`. You may use other Scipy and Numpy functions in your implementations.  Apply your functions to the `ret` data to test them."
   ]
  },
  {
   "cell_type": "code",
   "execution_count": null,
   "id": "f31d9ecc",
   "metadata": {},
   "outputs": [],
   "source": [
    "# Sample mean.\n",
    "# use len() and np.sum() \n",
    "def my_mean(arr):\n",
    "    # Sample size (length of array).\n",
    "    n = len(arr)\n",
    "    # Sum of array elements divided by sample size.\n",
    "    return None         # TODO"
   ]
  },
  {
   "cell_type": "code",
   "execution_count": null,
   "id": "6fe3386a",
   "metadata": {},
   "outputs": [],
   "source": [
    "# Unbiased sample variance.\n",
    "# use len(), my_mean(), and np.sum() \n",
    "# tip: make a variable for each meaningful term in the formula. makes it easier to debug\n",
    "def my_var(arr):\n",
    "    # Sample size.\n",
    "    n = len(arr)\n",
    "    # Array of deviations of array elements from sample mean.\n",
    "    # Note that \"array - scalar\" will broadcast the subtraction.\n",
    "    dev = arr - my_mean(arr)\n",
    "    \n",
    "    return None         # TODO"
   ]
  },
  {
   "cell_type": "code",
   "execution_count": null,
   "id": "f427c9b4",
   "metadata": {},
   "outputs": [],
   "source": [
    "# Sample standard deviation derived from unbiased sample variance.\n",
    "# use np.sqrt() and my_var()\n",
    "def my_std(arr):\n",
    "    return None         # TODO"
   ]
  },
  {
   "cell_type": "markdown",
   "id": "3053e303",
   "metadata": {},
   "source": [
    "Let $n$ be the number of samples, $x_1, \\dots, x_n$ be the data, and $\\overline{x}$ be the sample mean. Define the moments\n",
    "$$m_k = \\frac{1}{n} \\sum_i (x_i - \\overline{x})^k.$$\n",
    "\n",
    "The adjusted (unbiased) Fisher-Pearson coefficient of **skewness** is\n",
    "$$\n",
    " \\frac{\\sqrt{n(n-1)}}{n-2} \\frac{m_3}{m_2^{3/2}}.\n",
    "$$\n"
   ]
  },
  {
   "cell_type": "code",
   "execution_count": null,
   "id": "de8fe21b",
   "metadata": {},
   "outputs": [],
   "source": [
    "# Adjusted (unbiased) Fisher-Pearson coefficient of skewness.\n",
    "# See scipy.stats.skew documentation for the formula. Remember to center the data with the mean before using the formula\n",
    "# use len(), my_mean(), np.sum(), np.sqrt()\n",
    "# tip: as before, make variables for each meaningful term\n",
    "def my_skew(arr):\n",
    "    # Sample size.\n",
    "    n = len(arr)\n",
    "    # Centered data.\n",
    "    arr_ctd = arr - my_mean(arr)\n",
    "    # Third central sample moment.\n",
    "    m3 = np.sum(arr_ctd**3) / n\n",
    "    # Second central sample moment.\n",
    "    m2 = np.sum(arr_ctd**2) / n\n",
    "    # Bias-adjustment cofactor.\n",
    "    adj = np.sqrt(n*(n-1)) / (n-2)\n",
    "    return None         # TODO"
   ]
  },
  {
   "cell_type": "markdown",
   "id": "ea7b76d0",
   "metadata": {},
   "source": [
    "The unbiased Fisher coefficient of **excess kurtosis** is\n",
    "$$\n",
    " \\frac{n-1}{(n-2)(n-3)} \\left[\\frac{(n+1) m_4}{m_2^2} - 3(n-1)\\right].\n",
    "$$"
   ]
  },
  {
   "cell_type": "code",
   "execution_count": null,
   "id": "ed238689",
   "metadata": {},
   "outputs": [],
   "source": [
    "# Adjusted Fisher coefficient of excess kurtosis.\n",
    "# See \"sample kurtosis > standard unbiased estimator\" in Kurtosis wikipedia page. This lines up with scipy.stats.kurtosis documentation, that unfortunately does not show the formula.\n",
    "# use len(), my_mean(), np.sum()\n",
    "# tip: as before, make variables for each meaningful term\n",
    "def my_kurt(arr):\n",
    "    # Sample size.\n",
    "    n = len(arr)\n",
    "    # Centered data.\n",
    "    arr_ctd = arr - my_mean(arr)\n",
    "    # Fourth central sample moment.\n",
    "    m4 = np.sum(arr_ctd**4) / n\n",
    "    # Second central sample moment.\n",
    "    m2 = np.sum(arr_ctd**2) / n\n",
    "    # Bias-adjustment cofactor.\n",
    "    adj = (n-1) / ((n-2)*(n-3))\n",
    "    return None         # TODO"
   ]
  },
  {
   "cell_type": "markdown",
   "id": "4168b879",
   "metadata": {},
   "source": [
    "Written for you is the code to print all these results out. \n",
    "- Take some time to understand what each line of code is doing. Presenting numbers with easy-to-read prints will be a helpful skill."
   ]
  },
  {
   "cell_type": "code",
   "execution_count": null,
   "id": "eee8f038",
   "metadata": {},
   "outputs": [],
   "source": [
    "# List of labels to print.\n",
    "label = [\"Mean\", \"Variance\", \"Standard Deviation\", \"Skewness\", \"Kurtosis\"]\n",
    "# List of statistics.\n",
    "my_value = [my_mean(ret), my_var(ret), my_std(ret), my_skew(ret), my_kurt(ret)]\n",
    "# Print table.\n",
    "print(\"*** My Functions ***\")\n",
    "for i in range(len(label)):\n",
    "    # Print results in two columns.\n",
    "    # \"{}\" is a placeholder for a string.\n",
    "    # \":\" indicates start of format specification.\n",
    "    # \"<\" indicates left alignment.\n",
    "    # \"25\" indicates field width of 25 characters.\n",
    "    print(\"{:<25} {}\".format(label[i], my_value[i]))"
   ]
  },
  {
   "cell_type": "markdown",
   "id": "c92c1737",
   "metadata": {},
   "source": [
    "## 2 Compare against SciPy and NumPy\n",
    "\n",
    "**Task:** \n",
    "- Compute the same quantities using the corresponding SciPy or NumPy functions with default arguments. "
   ]
  },
  {
   "cell_type": "code",
   "execution_count": null,
   "id": "2e7eedcf",
   "metadata": {},
   "outputs": [],
   "source": [
    "# The point of this exercise:\n",
    "# There are different definitions of the above statistics.\n",
    "# Some implementations provide parameters that let you choose versions.\n",
    "\n",
    "# Import specific functions from SciPy.\n",
    "from scipy.stats import skew, kurtosis\n",
    "\n",
    "# List of labels.\n",
    "label = [\"Mean\", \"Variance\", \"Standard Deviation\", \"Skewness\", \"Kurtosis\"]\n",
    "# List of statistics.\n",
    "package_value = [None, None, None, None, None]        # TODO\n",
    "\n",
    "# Print table.\n",
    "print(\"{:<25} {:<20} {:<20}\".format('', 'my functions', 'scipy/numpy'))\n",
    "for i in range(len(label)):\n",
    "    print(\"{:<25} {:<20} {:<20}\".format(label[i], my_value[i], package_value[i]))"
   ]
  },
  {
   "cell_type": "markdown",
   "id": "8ce4cf55",
   "metadata": {},
   "source": [
    "**Discuss:** Do your functions give different results from those of the numpy/scipy implementations?\n",
    "\n",
    "If they are different:\n",
    "- are your implementations incorrect, or \n",
    "- can you adjust some parameters of the SciPy or NumPy functions to get the same results as your manual implementations?"
   ]
  },
  {
   "cell_type": "code",
   "execution_count": null,
   "id": "d2798e0e",
   "metadata": {},
   "outputs": [],
   "source": [
    "# Results differ for variance, standard deviation, skewness, and kurtosis.\n",
    "# This is because the default parameters set the functions to compute alternative versions of the statistics.\n",
    "\n",
    "# We can adjust the parameters to match our versions of the statistics.\n",
    "# Note the extra arguments to the functions.\n",
    "label = [\"Mean\", \"Variance\", \"Standard Deviation\", \"Skewness\", \"Kurtosis\"]\n",
    "package_value_adj = [None, None, None, None, None] # TODO\n",
    "\n",
    "# Print table.\n",
    "print(\"{:<25} {:<20} {:<20}\".format('', 'my functions', 'scipy/numpy'))\n",
    "for i in range(len(label)):\n",
    "    print(\"{:<25} {:<20} {:<20}\".format(label[i], my_value[i], package_value_adj[i]))\n",
    "\n",
    "# Results are now within a roundoff error of each other.\n",
    "# Roundoff error is due to alternative arithmetic implementation."
   ]
  },
  {
   "cell_type": "markdown",
   "id": "3da9eeb9",
   "metadata": {},
   "source": [
    "## 3 Are stocks normally distributed? Visual check through histograms.\n",
    "\n",
    "The normal distribution is commonly used to model natural and social phenomena. Investigate whether the hypothesis that stock return is normally distributed is plausible.\n",
    "\n",
    "**Task:**\n",
    "- Simulate draws from a normal distribution having \n",
    "    - mean equal to the sample mean of the stock returns and \n",
    "    - standard deviation equal to the sample standard deviation of the stock returns. \n",
    "    - Use a random state of 0, and \n",
    "    - for the number of draws, use the number of stock return observations.\n",
    "- (Done for you) Compare histograms of the simulated data and the actual stock returns.\n",
    "    - **Discuss:** Note how we choose the bins carefully. If you changed the 'bins=mybins' to 'bins=100', what difference do you see?\n",
    "\n",
    "        **Ans:** \n",
    "        - The returns exhibit fatter tails in comparison to the simulated normal data. \n",
    "        - This is called \"excess kurtosis\" or \"leptokurtosis.\" It indicates that extreme outcomes are more probable than under a normal distribution.\n",
    "        - Excess kurtosis is a commonly observed feature of asset returns. The hypothesis that the historical stock return is normally distributed is implausible based on differing kurtosis."
   ]
  },
  {
   "cell_type": "code",
   "execution_count": null,
   "id": "4e6e9087",
   "metadata": {
    "scrolled": true
   },
   "outputs": [],
   "source": [
    "# Import class for normal distribution from SciPy.\n",
    "# It is customary to import this under an alias because \"norm\" is used for vector norms.\n",
    "from scipy.stats import norm as gaussian\n",
    "\n",
    "# Simulate normal random variates\n",
    "sim_data = gaussian.rvs(loc=None, scale=None, size=None, random_state=0) # TODO\n",
    "sim_data"
   ]
  },
  {
   "cell_type": "code",
   "execution_count": null,
   "id": "c747e050",
   "metadata": {},
   "outputs": [],
   "source": [
    "# Import class for plotting.\n",
    "import matplotlib.pyplot as plt\n",
    "\n",
    "# Plot frequency histograms.\n",
    "_, mybins, _ = plt.hist(ret, bins=100, label=\"Actual Returns\")\n",
    "plt.hist(sim_data, bins=mybins, alpha=0.66, label=\"Simulated Returns\")\n",
    "\n",
    "plt.legend()\n",
    "plt.show()"
   ]
  },
  {
   "cell_type": "markdown",
   "id": "c917e078",
   "metadata": {},
   "source": [
    "# Optional, BME: More ways to check normality of data\n",
    "## 4.1 Box Plot\n",
    "\n",
    "The Box Plot is a visualization method that can be used to detect if sample is not following a normal distribution. First, we define the quartiles:\n",
    "- first quartile, Q1\n",
    "- third quartile, Q3\n",
    "- interquartile range, IQR = Q3 - Q1\n",
    "\n",
    "\n",
    "A box plot in matplotlib libary diplays the following summary statistics of the data:\n",
    "- Q3 + 1.5*IQR\n",
    "- Q3\n",
    "- Median (which is also Q2)\n",
    "- Q1\n",
    "- Q1 - 1.5*IQR\n",
    "\n",
    "**Task:** \n",
    "- Generate two random samples with normal distribution each contain 300 samples: \n",
    "    1. $\\mathcal{N}(70,40)$\n",
    "    2. $\\mathcal{N}(100,10)$\n",
    "- Generate box plots of these sample and compare them. (use random seed of 0)\n",
    "- Discuss: which features of the box plot reflect the summary statistics stated above?"
   ]
  },
  {
   "cell_type": "code",
   "execution_count": null,
   "id": "a81719d5",
   "metadata": {},
   "outputs": [],
   "source": [
    "# Create two normally distributed random samples\n",
    "D1 = gaussian.rvs(loc=None, scale=None, size=None, random_state=0) # TODO\n",
    "D2 = gaussian.rvs(loc=None, scale=None, size=None, random_state=0) # TODO\n",
    "Data = [D1, D2]\n",
    "\n",
    "fig = plt.figure(figsize =(5, 4))\n",
    "\n",
    "ax = fig.add_axes([0, 0, 1, 1]) # Creating axes instance\n",
    "bp = ax.boxplot(Data)           # Creating plot\n",
    "ax.set_xticklabels(['data_1', 'data_2']) # y-axis labels\n",
    "\n",
    "plt.show()"
   ]
  },
  {
   "cell_type": "markdown",
   "id": "a3b5b5eb",
   "metadata": {},
   "source": [
    "Load the mortality hypertension data, which is obtained from the World Health Organization (WHO) website."
   ]
  },
  {
   "cell_type": "code",
   "execution_count": null,
   "id": "02847231",
   "metadata": {},
   "outputs": [],
   "source": [
    "df_mortality_raw = pd.read_csv('Mortality_Hypertension_America.csv', skiprows=2)\n",
    "df_mortality_raw"
   ]
  },
  {
   "cell_type": "markdown",
   "id": "818fac07",
   "metadata": {},
   "source": [
    "**Task:**\n",
    "- Clean the data to start from 1951-2019.\n",
    "- Keep only the rows with 'Sex' column being 'Male' or 'Female'. (not 'All')\n",
    "- Keep only the rows with 'Age Group' column being '[All]'."
   ]
  },
  {
   "cell_type": "code",
   "execution_count": null,
   "id": "64fde298",
   "metadata": {},
   "outputs": [],
   "source": [
    "df_mortality = None             # TODO\n",
    "df_mortality"
   ]
  },
  {
   "cell_type": "markdown",
   "id": "86db25c3",
   "metadata": {},
   "source": [
    "**Task:**\n",
    "- Make a boxplot of the number of mortalities, by Sex. This can be done using the pandas boxplot method.\n",
    "- Discuss if the distribution looks normal, based on the previous boxplot visualization of random normal data."
   ]
  },
  {
   "cell_type": "code",
   "execution_count": null,
   "id": "5c416adf",
   "metadata": {},
   "outputs": [],
   "source": [
    "# TODO"
   ]
  },
  {
   "cell_type": "markdown",
   "id": "7f5e896c",
   "metadata": {},
   "source": [
    "## 4.2 Violin Plot\n",
    "\n",
    "Violin plots provide additional information by adding a density trace. \n",
    "**Task:**\n",
    "- Define `male_mortality` and `female_mortality`, which are numpy arrays containing the number of mortalities for the corresponding sex. The arrays should be extracted from the `df_mortality` dataframe.\n",
    "- Use these arrays to plot side-by-side a violin plot and a box plot. \n",
    "- How do you interpret your result?"
   ]
  },
  {
   "cell_type": "code",
   "execution_count": null,
   "id": "d92f1dda",
   "metadata": {},
   "outputs": [],
   "source": [
    "male_mortality = None             # TODO\n",
    "female_mortality = None             # TODO"
   ]
  },
  {
   "cell_type": "code",
   "execution_count": null,
   "id": "f0b44b12",
   "metadata": {},
   "outputs": [],
   "source": [
    "fig, axes = plt.subplots(nrows = 1, ncols=2, figsize=(12,8))\n",
    "\n",
    "# generate combined data for male and female convert them float from object\n",
    "Data = [male_mortality, female_mortality]\n",
    "\n",
    "# plot Violin plot\n",
    "axes[0].violinplot(Data, showmeans=False, showmedians=True)\n",
    "axes[0].set_title('violin plot')\n",
    "axes[0].set_xticks([1,2])\n",
    "axes[0].set_xticklabels(['Male', 'Female'])\n",
    "axes[0].set_ylabel('Mortality')\n",
    "\n",
    "# plot Box plot\n",
    "axes[1].boxplot(Data)\n",
    "axes[1].set_title('box plot')\n",
    "axes[1].set_xticklabels(['Male', 'Female'])\n",
    "axes[1].set_ylabel('Mortality')\n",
    "\n",
    "plt.show()"
   ]
  },
  {
   "cell_type": "markdown",
   "id": "7ef7e7a9",
   "metadata": {},
   "source": [
    "## 4.3 Q-Q plot\n",
    "\n",
    "Q-Q plot or quantile-quantile plot is another visualization tool to determine if a set of random data is initiated from some pre-difeind theoritical distribution (Ex. normal distribution). In python, we could use **probplot** method from scipy.stats to generate Q-Q plots. \n",
    "\n",
    "- First generate Q-Q plot for a $\\mathcal{N}(50,10)$ distribution by using 1000 sample. (Use a seed value of zero). \n",
    "- Then generate Q-Q plot for male and female mortality samples. Make sure to standardized your data first.\n",
    "\n",
    "How do you interpret your result?"
   ]
  },
  {
   "cell_type": "code",
   "execution_count": null,
   "id": "50e96f7c",
   "metadata": {},
   "outputs": [],
   "source": [
    "male_mortality_normalized = None             # TODO\n",
    "female_mortality_normalized = None             # TODO"
   ]
  },
  {
   "cell_type": "code",
   "execution_count": null,
   "id": "5e2e0f5c",
   "metadata": {},
   "outputs": [],
   "source": [
    "import scipy.stats as stats\n",
    "\n",
    "fig = plt.figure(figsize =(15, 5))\n",
    "\n",
    "# generate 1000 samples from normal distribution with zero mean and unit standard deviation\n",
    "normal_data = gaussian.rvs(loc=None, scale=None, size=None, random_state=0) # TODO\n",
    "\n",
    "plt.subplot(1, 3, 1)\n",
    "stats.probplot(normal_data, dist=\"norm\", plot=plt)\n",
    "plt.title('Normal distribution')\n",
    "\n",
    "# plot standardized male population mortality samples against normal distribution\n",
    "plt.subplot(1, 3, 2)\n",
    "stats.probplot(male_mortality_normalized, dist=\"norm\", plot=plt)\n",
    "plt.title('Male mortality data')\n",
    "\n",
    "# plot standardized female population mortality samples against normal distribution\n",
    "plt.subplot(1, 3, 3)\n",
    "stats.probplot(female_mortality_normalized, dist=\"norm\", plot=plt)\n",
    "plt.title('Female mortality data')\n",
    "\n",
    "plt.show()"
   ]
  },
  {
   "cell_type": "code",
   "execution_count": null,
   "id": "6470df6c",
   "metadata": {},
   "outputs": [],
   "source": []
  }
 ],
 "metadata": {
  "kernelspec": {
   "display_name": "base",
   "language": "python",
   "name": "python3"
  },
  "language_info": {
   "codemirror_mode": {
    "name": "ipython",
    "version": 3
   },
   "file_extension": ".py",
   "mimetype": "text/x-python",
   "name": "python",
   "nbconvert_exporter": "python",
   "pygments_lexer": "ipython3",
   "version": "3.11.9"
  },
  "vscode": {
   "interpreter": {
    "hash": "43129c23d79667d987760d8fda822d6cf9b94e4f6ff31aa29025e95d3c53fe91"
   }
  }
 },
 "nbformat": 4,
 "nbformat_minor": 5
}
