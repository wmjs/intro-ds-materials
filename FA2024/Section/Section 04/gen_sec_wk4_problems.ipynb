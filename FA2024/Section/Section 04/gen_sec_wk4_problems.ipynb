{
 "cells": [
  {
   "cell_type": "markdown",
   "id": "a146b8d9-4e3d-4896-b477-a6c4112ac6ab",
   "metadata": {
    "tags": []
   },
   "source": [
    "# Section 4 - PCA\n",
    "You do not need any accompanying datasets for this notebook.\n",
    "\n",
    "Goals:\n",
    "- practice pandas\n",
    "- make interpretation from plots\n",
    "- solidify linear regression\n",
    "- understand SVD better"
   ]
  },
  {
   "cell_type": "markdown",
   "id": "a809f55c",
   "metadata": {},
   "source": [
    "# 1 Loading data from internet/preprocessing\n",
    "**Task:**\n",
    "- Read the description of the [diabetes](https://www4.stat.ncsu.edu/~boos/var.select/diabetes) dataset. \n",
    "- Using [pandas.read_csv](https://pandas.pydata.org/pandas-docs/stable/reference/api/pandas.read_csv.html), load the dataset into a DataFrame `df` from the URL https://www4.stat.ncsu.edu/~boos/var.select/diabetes.tab.txt. \n",
    "    - This dataset is tab separated, so make sure you use the read_csv function's sep argument correctly with '\\t'.\n",
    "- Display the dataframe."
   ]
  },
  {
   "cell_type": "code",
   "execution_count": null,
   "id": "85b4236e-4868-499e-b5c2-90c90339d42e",
   "metadata": {},
   "outputs": [],
   "source": [
    "# TODO import data\n"
   ]
  },
  {
   "cell_type": "markdown",
   "id": "6a94e457",
   "metadata": {},
   "source": [
    "We will analyze the data for individuals with\n",
    "1. `20 <= AGE < 30`\n",
    "2. `SEX == 1`\n",
    "\n",
    "**Task:** \n",
    "- Store this subset of data (with above two criteria) as `subdata`. \n",
    "    - After filtering the above criteria, drop the `AGE` and `SEX` columns from the data. Hint: use subdata.drop(columns= ...).\n",
    "    - Display `subdata` to check you did the right thing.\n",
    "- Define numpy array `y` by choosing the corresponding column of `subdata`.\n",
    "- Define numpy array `X` by choosing the remaining columns of `subdata`. \n",
    "    - Hence, your predictors/features are `BMI`, `BP`, `S1`, `S2`, `S3`, `S4`, `S5`, and `S6`. (Remember: we already dropped `SEX` and `AGE`)\n",
    "    - Make sure the dimensions are number of features by number of data points. You may need to take a transpose.\n",
    "- Check if you did the correct thing by printing any relevatn quantities, like shapes or array entries."
   ]
  },
  {
   "cell_type": "code",
   "execution_count": null,
   "id": "80922bca",
   "metadata": {},
   "outputs": [],
   "source": [
    "# TODO create subdata, y, and X\n"
   ]
  },
  {
   "cell_type": "markdown",
   "id": "8b34707f-e2ad-4252-ad47-758ca2fd90a4",
   "metadata": {},
   "source": [
    "# 2 Covariance matrix \n",
    "\n",
    "**Task:**\n",
    "- Discuss: What is one important step you must do to the data before calculating covariance matrix for PCA?\n",
    "\n",
    "    **Ans:** \n",
    "\n",
    "- Perform that change on the data X above, store the centered data as `X_ctd`. \n",
    "- Then, compute the new covariance matrix `C` of the data `X_ctd` using the formula\n",
    "    $$\n",
    "    C = \\frac{1}{n\\!-\\!1}\\ X X^T.\n",
    "    $$\n",
    "    - Check the dimensions of the covariance matrix is correct.\n",
    "- Perform an eigendecomposition, using singular value decomposition."
   ]
  },
  {
   "cell_type": "code",
   "execution_count": 3,
   "id": "8b8e9520-8bc4-4cb0-b9f1-114a4f6f336e",
   "metadata": {},
   "outputs": [],
   "source": [
    "# TODO compute covariance matrix\n",
    "\n",
    "# TODO eigendecomposition\n"
   ]
  },
  {
   "cell_type": "markdown",
   "id": "05c38fca",
   "metadata": {},
   "source": [
    "# 3 Compare eigendecompositions\n",
    "**Task:**\n",
    "- Compute the eigen decomposition of the covariance matrix THREE different ways: `svd()`, `eig()`, `eigh()`. \n",
    "    - For each way, print the eigenvalues/singular values.\n",
    "- Disucss:\n",
    "    - What's the difference between `svd` and `eig`? How many different outputs are there?\n",
    "    - What's the difference between `eig` and `eigh`? What property of covariance matrices allows us to use `eigh`?\n",
    "    - What is the difference between the eigenvalue/singular value outputs? How are they sorted? Print them and check."
   ]
  },
  {
   "cell_type": "code",
   "execution_count": null,
   "id": "49c4fa47",
   "metadata": {},
   "outputs": [],
   "source": [
    "# TODO SVD\n"
   ]
  },
  {
   "cell_type": "code",
   "execution_count": null,
   "id": "c239954c",
   "metadata": {},
   "outputs": [],
   "source": [
    "# TODO EIG\n"
   ]
  },
  {
   "cell_type": "code",
   "execution_count": null,
   "id": "506f194e",
   "metadata": {},
   "outputs": [],
   "source": [
    "# TODO EIGH\n"
   ]
  },
  {
   "cell_type": "markdown",
   "id": "c55b7bff",
   "metadata": {},
   "source": [
    "# sklearn PCA\n",
    "**Task:**\n",
    "Compare your manual implementation against sklearn."
   ]
  },
  {
   "cell_type": "code",
   "execution_count": null,
   "id": "ef15418a",
   "metadata": {},
   "outputs": [],
   "source": [
    "# TODO sklearn PCA\n",
    "\n",
    "# TODO compare eigenvalues"
   ]
  },
  {
   "cell_type": "code",
   "execution_count": null,
   "id": "29a66feb",
   "metadata": {},
   "outputs": [],
   "source": [
    "# TODO compare eigenvectors\n"
   ]
  },
  {
   "cell_type": "markdown",
   "id": "b31c9e89",
   "metadata": {},
   "source": [
    "## 5 Projections\n",
    "- For simplicity, consider a further subdata in 2D using only the `BMI` and `BP` columns, centered, call it \n",
    "$Z$. \n",
    "- Get the principal components of $Z$, call it $U$.\n",
    "The code has been written for you."
   ]
  },
  {
   "cell_type": "code",
   "execution_count": null,
   "id": "040f64b8",
   "metadata": {},
   "outputs": [],
   "source": [
    "n = X.shape[1]\n",
    "\n",
    "Z = X[:2,:]                                 # keep first two rows for BMI and BP only\n",
    "Z -= Z.mean(axis=1, keepdims=True)          # center\n",
    "Z = Z[:,np.argsort(Z[1,:])]                 # sort by x values, for simplicty later\n",
    "\n",
    "print(Z.shape)\n",
    "Z[:,:5]                                     # first 5 points"
   ]
  },
  {
   "cell_type": "code",
   "execution_count": null,
   "id": "49d61550",
   "metadata": {},
   "outputs": [],
   "source": [
    "U, V, W = np.linalg.svd(Z @ Z.T / (n-1))    # svd\n",
    "U"
   ]
  },
  {
   "cell_type": "markdown",
   "id": "a69b955d",
   "metadata": {},
   "source": [
    "We learned that the projection is $U_1U_1^TX$, visualized below."
   ]
  },
  {
   "cell_type": "code",
   "execution_count": null,
   "id": "7487e4eb",
   "metadata": {},
   "outputs": [],
   "source": [
    "P1 = U[:,:1] @ U[:,:1].T @ Z        # TODO how do we turn the math into code? You may need to do U[:,:1] instead of U[:,0]\n",
    "\n",
    "import matplotlib.pyplot as plt\n",
    "plt.scatter(Z[0,:], Z[1,:], c='b')\n",
    "plt.scatter(P1[0,:], P1[1,:], c='orange', label='projection')\n",
    "plt.quiver([0,0], [0,0], U[0,:], U[1,:], color='k', angles='xy', scale_units='xy', scale=0.1, label='PCs')\n",
    "plt.plot(np.vstack((Z[0,:], P1[0,:])), np.vstack((Z[1,:], P1[1,:])), '--', c='orange')\n",
    "plt.xlabel('x'); plt.ylabel('y'); plt.title('Projecting onto PC1');plt.legend(loc='lower right')\n",
    "plt.axis('equal'); plt.show()"
   ]
  },
  {
   "cell_type": "markdown",
   "id": "9d7f5463",
   "metadata": {},
   "source": [
    "What happens if we do $U_1^TX$ only? Run the cell below.\n",
    "- Only 1-dimensional!"
   ]
  },
  {
   "cell_type": "code",
   "execution_count": null,
   "id": "b8f39174",
   "metadata": {},
   "outputs": [],
   "source": [
    "magnitudes = U[:,0].T @ Z\n",
    "print(magnitudes.shape)\n",
    "magnitudes"
   ]
  },
  {
   "cell_type": "markdown",
   "id": "2c7f1983",
   "metadata": {},
   "source": []
  }
 ],
 "metadata": {
  "kernelspec": {
   "display_name": "base",
   "language": "python",
   "name": "python3"
  },
  "language_info": {
   "codemirror_mode": {
    "name": "ipython",
    "version": 3
   },
   "file_extension": ".py",
   "mimetype": "text/x-python",
   "name": "python",
   "nbconvert_exporter": "python",
   "pygments_lexer": "ipython3",
   "version": "3.11.5"
  },
  "vscode": {
   "interpreter": {
    "hash": "43129c23d79667d987760d8fda822d6cf9b94e4f6ff31aa29025e95d3c53fe91"
   }
  }
 },
 "nbformat": 4,
 "nbformat_minor": 5
}
